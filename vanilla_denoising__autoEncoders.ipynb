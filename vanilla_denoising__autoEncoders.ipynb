{
  "nbformat": 4,
  "nbformat_minor": 0,
  "metadata": {
    "colab": {
      "private_outputs": true,
      "provenance": [],
      "authorship_tag": "ABX9TyMP8u7KcMriKurftVvSIB7e",
      "include_colab_link": true
    },
    "kernelspec": {
      "name": "python3",
      "display_name": "Python 3"
    },
    "language_info": {
      "name": "python"
    }
  },
  "cells": [
    {
      "cell_type": "markdown",
      "metadata": {
        "id": "view-in-github",
        "colab_type": "text"
      },
      "source": [
        "<a href=\"https://colab.research.google.com/github/harsh-hy/DeepLearning/blob/main/vanilla_denoising__autoEncoders.ipynb\" target=\"_parent\"><img src=\"https://colab.research.google.com/assets/colab-badge.svg\" alt=\"Open In Colab\"/></a>"
      ]
    },
    {
      "cell_type": "code",
      "metadata": {
        "id": "c8821fa7"
      },
      "source": [
        "import tensorflow as tf\n",
        "from tensorflow.keras.layers import Input, Dense, Flatten, Reshape, Conv2D, Conv2DTranspose, LeakyReLU, Dropout\n",
        "from tensorflow.keras.models import Model\n",
        "from tensorflow.keras.datasets import mnist\n",
        "import numpy as np\n",
        "import matplotlib.pyplot as plt\n",
        "from tensorflow.keras.losses import binary_crossentropy"
      ],
      "execution_count": null,
      "outputs": []
    },
    {
      "cell_type": "code",
      "metadata": {
        "id": "1fd9b8eb"
      },
      "source": [
        "# Load the MNIST dataset\n",
        "(x_train, _), (x_test, _) = mnist.load_data()\n",
        "\n",
        "# Normalize and flatten the images\n",
        "x_train = x_train.astype('float32') / 255.\n",
        "x_test = x_test.astype('float32') / 255.\n",
        "x_train = np.reshape(x_train,(len(x_train),28,28,1))\n",
        "x_test = np.reshape(x_test,(len(x_test),28,28,1))\n",
        "\n",
        "print(x_train.shape)\n",
        "print(x_test.shape)"
      ],
      "execution_count": null,
      "outputs": []
    },
    {
      "cell_type": "code",
      "source": [
        "#vanilla\n",
        "input_img=Input(shape=(28,28,1))\n",
        "\n",
        "\n",
        "x=Flatten()(input_img)\n",
        "encoded = Dense(64, activation='relu')(x)\n",
        "decoded = Dense(784, activation='sigmoid')(encoded)\n",
        "decoded=Reshape((28,28,1))(decoded)\n",
        "\n",
        "# Autoencoder model\n",
        "vanilla_autoencoder = Model(input_img, decoded)\n",
        "\n",
        "# Compile the model\n",
        "vanilla_autoencoder.compile(optimizer='adam', loss='binary_crossentropy')"
      ],
      "metadata": {
        "id": "jkiOED5O3l0K"
      },
      "execution_count": null,
      "outputs": []
    },
    {
      "cell_type": "code",
      "source": [
        "print(\"TRAINING ....\")\n",
        "vanilla_autoencoder.fit(x_train, x_train,\n",
        "                epochs=6,\n",
        "                batch_size=256,\n",
        "                validation_data=(x_test, x_test),\n",
        "                verbose=1)"
      ],
      "metadata": {
        "id": "IZpdZfFm7gEb"
      },
      "execution_count": null,
      "outputs": []
    },
    {
      "cell_type": "code",
      "source": [
        "decoded_imgs_vanilla=vanilla_autoencoder.predict(x_test[:5])"
      ],
      "metadata": {
        "id": "P2QNrL2X7h_-"
      },
      "execution_count": null,
      "outputs": []
    },
    {
      "cell_type": "code",
      "source": [
        "# Denoising Autoencoder\n",
        "\n",
        "# Add noise to the images\n",
        "noise_factor = 0.3\n",
        "x_train_noisy = x_train + noise_factor * np.random.normal(loc=0.0, scale=1.0, size=x_train.shape)\n",
        "x_test_noisy = x_test + noise_factor * np.random.normal(loc=0.0, scale=1.0, size=x_test.shape)\n",
        "\n",
        "# Clip the values to be between 0 and 1\n",
        "x_train_noisy = np.clip(x_train_noisy, 0., 1.)\n",
        "x_test_noisy = np.clip(x_test_noisy, 0., 1.)\n",
        "\n",
        "x_train_noisy = np.reshape(x_train_noisy,(len(x_train_noisy),28,28,1))\n",
        "x_test_noisy = np.reshape(x_test_noisy,(len(x_test_noisy),28,28,1))\n",
        "x_train = np.reshape(x_train,(len(x_train),28,28,1))\n",
        "x_test = np.reshape(x_test,(len(x_test),28,28,1))\n",
        "\n",
        "\n",
        "# Define the denoising autoencoder model\n",
        "input_img_denoising = Input(shape=(28, 28, 1))\n"
      ],
      "metadata": {
        "id": "nJ8b4uHP7ruq"
      },
      "execution_count": null,
      "outputs": []
    },
    {
      "cell_type": "code",
      "source": [
        "x=Flatten()(input_img_denoising)\n",
        "encoded_denoising = Dense(64, activation='relu')(x)\n",
        "decoded_denoising = Dense(784, activation='sigmoid')(encoded_denoising)\n",
        "decoded_denoising=Reshape((28,28,1))(decoded_denoising)\n",
        "\n",
        "denoising_autoencoder = Model(input_img_denoising, decoded_denoising)\n",
        "denoising_autoencoder.compile(optimizer='adam', loss='binary_crossentropy')"
      ],
      "metadata": {
        "id": "XHSfIGhR9EDZ"
      },
      "execution_count": null,
      "outputs": []
    },
    {
      "cell_type": "code",
      "source": [
        "print(\"TRAINING ...\")\n",
        "denoising_autoencoder.fit(x_train_noisy, x_train,\n",
        "                epochs=6,\n",
        "                batch_size=256,\n",
        "                validation_data=(x_test_noisy, x_test),\n",
        "                verbose=1)"
      ],
      "metadata": {
        "id": "kHtbfu7O9w99"
      },
      "execution_count": null,
      "outputs": []
    },
    {
      "cell_type": "code",
      "source": [
        "denoising_imgs_denoising=denoising_autoencoder.predict(x_test_noisy[:5])"
      ],
      "metadata": {
        "id": "NE6SY4u7_Hh9"
      },
      "execution_count": null,
      "outputs": []
    },
    {
      "cell_type": "code",
      "source": [
        "#VISUAL COMPARISON\n",
        "n=5\n",
        "plt.figure(figsize=(20,4))\n",
        "for i in range(n):\n",
        "  #original\n",
        "  ax=plt.subplot(3,n,i+1)\n",
        "  plt.imshow(x_test[i].reshape(28,28))\n",
        "  plt.title(\"ORIGINAL\")\n",
        "  plt.axis(\"off\")\n",
        "\n",
        "  #vanilla\n",
        "  ax=plt.subplot(3,n,i+1+n)\n",
        "  plt.imshow(decoded_imgs_vanilla[i].reshape(28,28))\n",
        "  plt.title(\"VANILLA\")\n",
        "  plt.axis(\"off\")\n",
        "\n",
        "  #denoising\n",
        "  ax=plt.subplot(3,n,i+1+2*n)\n",
        "  plt.imshow(denoising_imgs_denoising[i].reshape(28,28))\n",
        "  plt.title(\"DENOISING\")\n",
        "  plt.axis(\"off\")"
      ],
      "metadata": {
        "id": "Rouhr1Dr94lp"
      },
      "execution_count": null,
      "outputs": []
    },
    {
      "cell_type": "code",
      "source": [],
      "metadata": {
        "id": "von6HJzO_bM2"
      },
      "execution_count": null,
      "outputs": []
    }
  ]
}