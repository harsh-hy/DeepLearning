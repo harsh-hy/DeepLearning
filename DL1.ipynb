{
  "nbformat": 4,
  "nbformat_minor": 0,
  "metadata": {
    "colab": {
      "private_outputs": true,
      "provenance": [],
      "authorship_tag": "ABX9TyP/h8xthDWXOQ/cdhLXnCkg",
      "include_colab_link": true
    },
    "kernelspec": {
      "name": "python3",
      "display_name": "Python 3"
    },
    "language_info": {
      "name": "python"
    }
  },
  "cells": [
    {
      "cell_type": "markdown",
      "metadata": {
        "id": "view-in-github",
        "colab_type": "text"
      },
      "source": [
        "<a href=\"https://colab.research.google.com/github/harsh-hy/DeepLearning/blob/main/DL1.ipynb\" target=\"_parent\"><img src=\"https://colab.research.google.com/assets/colab-badge.svg\" alt=\"Open In Colab\"/></a>"
      ]
    },
    {
      "cell_type": "code",
      "execution_count": null,
      "metadata": {
        "id": "tZeTGCzVpv67"
      },
      "outputs": [],
      "source": [
        "import tensorflow as tf"
      ]
    },
    {
      "cell_type": "code",
      "source": [
        "#scalar (rank 0)\n",
        "scalar=tf.constant(7)\n",
        "print(\"Scalar: \",scalar)"
      ],
      "metadata": {
        "id": "7whdrz20qFD6"
      },
      "execution_count": null,
      "outputs": []
    },
    {
      "cell_type": "code",
      "source": [
        "#VECTOR (RANK 1)\n",
        "vector=tf.constant([10,10])\n",
        "print(\"Vector: \",vector)"
      ],
      "metadata": {
        "id": "HHgCbkTMqedC"
      },
      "execution_count": null,
      "outputs": []
    },
    {
      "cell_type": "code",
      "source": [
        "#matrix (rank 2)\n",
        "matrix=tf.constant([[10,7],[7,10]])\n",
        "print(\"Matrix: \",matrix)"
      ],
      "metadata": {
        "id": "7V-R68QLqjpY"
      },
      "execution_count": null,
      "outputs": []
    },
    {
      "cell_type": "code",
      "source": [
        "#3D tensor\n",
        "tensor3D=tf.constant([[[1,2,3],[4,5,6]],[[7,8,9],[10,11,12]]])\n",
        "print(\"Tensor3D: \",tensor3D)"
      ],
      "metadata": {
        "id": "59QBDtZIqwV7"
      },
      "execution_count": null,
      "outputs": []
    },
    {
      "cell_type": "code",
      "source": [],
      "metadata": {
        "id": "31R3fuoXq36M"
      },
      "execution_count": null,
      "outputs": []
    }
  ]
}