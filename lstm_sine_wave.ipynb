{
  "nbformat": 4,
  "nbformat_minor": 0,
  "metadata": {
    "colab": {
      "private_outputs": true,
      "provenance": [],
      "authorship_tag": "ABX9TyOX9ifzj6JoEnABxII+S2k7",
      "include_colab_link": true
    },
    "kernelspec": {
      "name": "python3",
      "display_name": "Python 3"
    },
    "language_info": {
      "name": "python"
    }
  },
  "cells": [
    {
      "cell_type": "markdown",
      "metadata": {
        "id": "view-in-github",
        "colab_type": "text"
      },
      "source": [
        "<a href=\"https://colab.research.google.com/github/harsh-hy/DeepLearning/blob/main/lstm_sine_wave.ipynb\" target=\"_parent\"><img src=\"https://colab.research.google.com/assets/colab-badge.svg\" alt=\"Open In Colab\"/></a>"
      ]
    },
    {
      "cell_type": "code",
      "execution_count": null,
      "metadata": {
        "id": "NHEH9QfeHfcU"
      },
      "outputs": [],
      "source": [
        "from tensorflow.keras.datasets import imdb\n",
        "from tensorflow.keras.models import Sequential\n",
        "from tensorflow.keras.layers import Dense, Embedding, Flatten, LSTM, Dropout\n",
        "from tensorflow.keras.preprocessing import sequence\n",
        "from tensorflow.keras.preprocessing.sequence import pad_sequences\n",
        "import matplotlib.pyplot as plt\n",
        "import numpy as np"
      ]
    },
    {
      "cell_type": "code",
      "metadata": {
        "id": "2drzPabKH61N"
      },
      "source": [
        "import numpy as np\n",
        "time = np.linspace(0, 20 * np.pi, 1000)\n",
        "sine_wave = np.sin(time)"
      ],
      "execution_count": null,
      "outputs": []
    },
    {
      "cell_type": "code",
      "metadata": {
        "id": "adb08005"
      },
      "source": [
        "sequence_length = 10\n",
        "X = []\n",
        "y = []\n",
        "for i in range(len(sine_wave) - sequence_length):\n",
        "    X.append(sine_wave[i:i+sequence_length])\n",
        "    y.append(sine_wave[i+sequence_length])\n",
        "\n",
        "X = np.array(X)\n",
        "y = np.array(y)\n",
        "\n",
        "X = np.reshape(X, (X.shape[0], X.shape[1], 1))\n",
        "\n",
        "print(\"Shape of X:\", X.shape)\n",
        "print(\"Shape of y:\", y.shape)"
      ],
      "execution_count": null,
      "outputs": []
    },
    {
      "cell_type": "code",
      "metadata": {
        "id": "912a0ec8"
      },
      "source": [
        "model = Sequential()\n",
        "model.add(LSTM(50, input_shape=(X.shape[1], X.shape[2])))\n",
        "model.add(Dropout(0.2))\n",
        "model.add(Dense(1))\n",
        "\n",
        "model.compile(optimizer='adam', loss='mean_squared_error')\n",
        "\n",
        "model.summary()"
      ],
      "execution_count": null,
      "outputs": []
    },
    {
      "cell_type": "code",
      "metadata": {
        "id": "49a273f9"
      },
      "source": [
        "history = model.fit(X, y, epochs=100, batch_size=32)"
      ],
      "execution_count": null,
      "outputs": []
    },
    {
      "cell_type": "code",
      "metadata": {
        "id": "f73a448b"
      },
      "source": [
        "last_sequence = X[-1]\n",
        "predictions = []\n",
        "num_prediction_steps = 200\n",
        "\n",
        "for _ in range(num_prediction_steps):\n",
        "    # Predict the next value\n",
        "    predicted_value = model.predict(last_sequence.reshape(1, sequence_length, 1))[0][0]\n",
        "    predictions.append(predicted_value)\n",
        "\n",
        "    # Update the sequence by removing the first element and adding the predicted value\n",
        "    last_sequence = np.append(last_sequence[1:], predicted_value)\n",
        "    last_sequence = last_sequence.reshape(sequence_length, 1)\n",
        "\n",
        "predictions = np.array(predictions)\n",
        "\n",
        "print(\"Shape of predictions:\", predictions.shape)"
      ],
      "execution_count": null,
      "outputs": []
    },
    {
      "cell_type": "code",
      "metadata": {
        "id": "a14d1b00"
      },
      "source": [
        "fig, ax = plt.subplots(figsize=(12, 6))\n",
        "\n",
        "ax.plot(time, sine_wave, label='Original Sine Wave')\n",
        "\n",
        "prediction_time = np.linspace(time[-1], time[-1] + num_prediction_steps * (time[1] - time[0]), num_prediction_steps)\n",
        "ax.plot(prediction_time, predictions, label='LSTM Predictions')\n",
        "\n",
        "ax.legend()\n",
        "ax.set_xlabel(\"Time\")\n",
        "ax.set_ylabel(\"Amplitude\")\n",
        "ax.set_title(\"LSTM Sine Wave Prediction\")\n",
        "\n",
        "plt.show()"
      ],
      "execution_count": null,
      "outputs": []
    }
  ]
}