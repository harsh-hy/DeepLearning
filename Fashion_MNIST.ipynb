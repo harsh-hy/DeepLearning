{
  "nbformat": 4,
  "nbformat_minor": 0,
  "metadata": {
    "colab": {
      "private_outputs": true,
      "provenance": [],
      "authorship_tag": "ABX9TyOoneNvBpLESB4atxso82lP",
      "include_colab_link": true
    },
    "kernelspec": {
      "name": "python3",
      "display_name": "Python 3"
    },
    "language_info": {
      "name": "python"
    }
  },
  "cells": [
    {
      "cell_type": "markdown",
      "metadata": {
        "id": "view-in-github",
        "colab_type": "text"
      },
      "source": [
        "<a href=\"https://colab.research.google.com/github/harsh-hy/DeepLearning/blob/main/Fashion_MNIST.ipynb\" target=\"_parent\"><img src=\"https://colab.research.google.com/assets/colab-badge.svg\" alt=\"Open In Colab\"/></a>"
      ]
    },
    {
      "cell_type": "code",
      "execution_count": null,
      "metadata": {
        "id": "Z4JQNDwOtfuv"
      },
      "outputs": [],
      "source": [
        "import tensorflow as tf\n",
        "import numpy as np\n",
        "import matplotlib.pyplot as plt"
      ]
    },
    {
      "cell_type": "code",
      "source": [
        "(x_train, y_train), (x_test, y_test)=tf.keras.datasets.fashion_mnist.load_data()"
      ],
      "metadata": {
        "id": "_sSW9sTvtrRZ"
      },
      "execution_count": null,
      "outputs": []
    },
    {
      "cell_type": "code",
      "source": [
        "class_names = ['T-shirt/top', 'Trouser', 'Pullover', 'Dress', 'Coat','Sandal', 'Shirt', 'Sneaker', 'Bag', 'Ankle boot']"
      ],
      "metadata": {
        "id": "695YR6ETuhCO"
      },
      "execution_count": null,
      "outputs": []
    },
    {
      "cell_type": "code",
      "source": [
        "#show dataset shapes\n",
        "print(x_train.shape)\n",
        "print(y_train.shape)\n",
        "print(x_test.shape)\n",
        "print(y_test.shape)"
      ],
      "metadata": {
        "id": "8-u7QfyGuwP_"
      },
      "execution_count": null,
      "outputs": []
    },
    {
      "cell_type": "markdown",
      "source": [
        "always go for k fold cross validation"
      ],
      "metadata": {
        "id": "SANoe8OnvH7G"
      }
    },
    {
      "cell_type": "code",
      "source": [
        "#display a few sample images\n",
        "plt.figure(figsize=(8,4))\n",
        "for i in range (10):\n",
        "  plt.subplot(2,5,i+1)\n",
        "  plt.imshow(x_train[i],cmap='gray')\n",
        "  plt.title(class_names[y_train[i]])\n",
        "  plt.axis('off')"
      ],
      "metadata": {
        "id": "hi3C9xuEu29S"
      },
      "execution_count": null,
      "outputs": []
    },
    {
      "cell_type": "code",
      "source": [
        "#convert first image to tensor\n",
        "tensor_img=tf.constant(x_train[0])\n",
        "print(f\"Shape: {tensor_img.shape}\")\n",
        "print(f\"Rank: {tf.rank(tensor_img)}\")\n",
        "print(f\"Dtype: {tensor_img.dtype}\")"
      ],
      "metadata": {
        "id": "iFfpmvZSwgU5"
      },
      "execution_count": null,
      "outputs": []
    },
    {
      "cell_type": "code",
      "source": [
        "#normalize the image\n",
        "tensor_img_normalized=tf.cast(tensor_img,tf.float32)/255.0\n",
        "print(tensor_img_normalized)"
      ],
      "metadata": {
        "id": "e1dB7TWQxbx5"
      },
      "execution_count": null,
      "outputs": []
    },
    {
      "cell_type": "code",
      "source": [
        "#exapand dimensions so that is is compatable with the input\n",
        "tensor_expanded=tf.expand_dims(tensor_img_normalized,axis=0)\n",
        "tensor_expanded=tf.expand_dims(tensor_expanded,axis=-1)\n",
        "print(tensor_expanded.shape)"
      ],
      "metadata": {
        "id": "1bQoe6dhyIyE"
      },
      "execution_count": null,
      "outputs": []
    },
    {
      "cell_type": "code",
      "source": [
        "#slice a part of the tensor\n",
        "sliced_tensor=tensor_expanded[0,0:28,0:28,0]\n",
        "print(sliced_tensor.shape)"
      ],
      "metadata": {
        "id": "mlNPpVxRyeQi"
      },
      "execution_count": null,
      "outputs": []
    },
    {
      "cell_type": "code",
      "source": [],
      "metadata": {
        "id": "7zX8SS1PzZQG"
      },
      "execution_count": null,
      "outputs": []
    }
  ]
}