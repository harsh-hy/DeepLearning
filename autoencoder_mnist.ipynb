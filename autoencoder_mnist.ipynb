{
  "nbformat": 4,
  "nbformat_minor": 0,
  "metadata": {
    "colab": {
      "private_outputs": true,
      "provenance": [],
      "authorship_tag": "ABX9TyPoRwMZ82xlgkdwt466P84v",
      "include_colab_link": true
    },
    "kernelspec": {
      "name": "python3",
      "display_name": "Python 3"
    },
    "language_info": {
      "name": "python"
    }
  },
  "cells": [
    {
      "cell_type": "markdown",
      "metadata": {
        "id": "view-in-github",
        "colab_type": "text"
      },
      "source": [
        "<a href=\"https://colab.research.google.com/github/harsh-hy/DeepLearning/blob/main/autoencoder_mnist.ipynb\" target=\"_parent\"><img src=\"https://colab.research.google.com/assets/colab-badge.svg\" alt=\"Open In Colab\"/></a>"
      ]
    },
    {
      "cell_type": "code",
      "source": [
        "import tensorflow as tf\n",
        "from tensorflow.keras import layers, models\n",
        "import matplotlib.pyplot as plt\n",
        "import numpy as np"
      ],
      "metadata": {
        "id": "ykvrbCFmCDIr"
      },
      "execution_count": null,
      "outputs": []
    },
    {
      "cell_type": "code",
      "source": [
        "(x_train, _), (x_test, _) = tf.keras.datasets.mnist.load_data()\n",
        "x_train =x_train.astype(\"float32\")/255\n",
        "x_test =x_test.astype(\"float32\")/255"
      ],
      "metadata": {
        "id": "_dTlAPqYCPh2"
      },
      "execution_count": null,
      "outputs": []
    },
    {
      "cell_type": "code",
      "source": [
        "#flatten\n",
        "x_train = x_train.reshape((len(x_train), 28*28))\n",
        "x_test = x_test.reshape((len(x_test), 28*28))\n",
        "\n",
        "print(x_train.shape)\n",
        "print(x_test.shape)"
      ],
      "metadata": {
        "id": "UPOIef7HCmgX"
      },
      "execution_count": null,
      "outputs": []
    },
    {
      "cell_type": "code",
      "source": [
        "encoding_dim=32"
      ],
      "metadata": {
        "id": "e10WFNq1DAgc"
      },
      "execution_count": null,
      "outputs": []
    },
    {
      "cell_type": "code",
      "source": [
        "input_img=layers.Input(shape=(784,))\n",
        "\n",
        "encoded=layers.Dense(128,activation=\"relu\")(input_img)\n",
        "encoded=layers.Dense(64,activation=\"relu\")(encoded)\n",
        "encoded=layers.Dense(encoding_dim,activation=\"relu\")(encoded)\n",
        "\n",
        "decoded=layers.Dense(64,activation=\"relu\")(encoded)\n",
        "decoded=layers.Dense(128,activation=\"relu\")(decoded)\n",
        "decoded=layers.Dense(784,activation=\"sigmoid\")(decoded)\n",
        "\n",
        "autoencoder=models.Model(input_img,decoded)"
      ],
      "metadata": {
        "id": "idYH-YajDWky"
      },
      "execution_count": null,
      "outputs": []
    },
    {
      "cell_type": "code",
      "source": [
        "autoencoder.compile(optimizer=\"adam\",loss=\"binary_crossentropy\")"
      ],
      "metadata": {
        "id": "y0my2JPGFIfi"
      },
      "execution_count": null,
      "outputs": []
    },
    {
      "cell_type": "code",
      "source": [
        "history=autoencoder.fit(x_train,x_train,epochs=33,batch_size=256,shuffle=True,validation_data=(x_test,x_test))"
      ],
      "metadata": {
        "id": "wO1OHk2XFK1b"
      },
      "execution_count": null,
      "outputs": []
    },
    {
      "cell_type": "code",
      "source": [
        "decoded_imgs=autoencoder.predict(x_test)"
      ],
      "metadata": {
        "id": "suwJ6MFKFpb5"
      },
      "execution_count": null,
      "outputs": []
    },
    {
      "cell_type": "code",
      "source": [
        "#visualize"
      ],
      "metadata": {
        "id": "yFFzr_5GGLi3"
      },
      "execution_count": null,
      "outputs": []
    },
    {
      "cell_type": "code",
      "metadata": {
        "id": "5067b0c5"
      },
      "source": [
        "n = 10\n",
        "plt.figure(figsize=(20, 4))\n",
        "for i in range(n):\n",
        "    # display original\n",
        "    ax = plt.subplot(2, n, i + 1)\n",
        "    plt.imshow(x_test[i].reshape(28, 28))\n",
        "    plt.gray()\n",
        "    ax.get_xaxis().set_visible(False)\n",
        "    ax.get_yaxis().set_visible(False)\n",
        "\n",
        "    # display reconstruction\n",
        "    ax = plt.subplot(2, n, i + 1 + n)\n",
        "    plt.imshow(decoded_imgs[i].reshape(28, 28))\n",
        "    plt.gray()\n",
        "    ax.get_xaxis().set_visible(False)\n",
        "    ax.get_yaxis().set_visible(False)\n",
        "plt.show()"
      ],
      "execution_count": null,
      "outputs": []
    },
    {
      "cell_type": "code",
      "source": [],
      "metadata": {
        "id": "VUjzz69HHRde"
      },
      "execution_count": null,
      "outputs": []
    }
  ]
}